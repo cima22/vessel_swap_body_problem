{
 "cells": [
  {
   "cell_type": "code",
   "execution_count": 10,
   "id": "61f0fcaf",
   "metadata": {},
   "outputs": [],
   "source": [
    "from gurobipy import *"
   ]
  },
  {
   "cell_type": "code",
   "execution_count": null,
   "id": "70c23d46",
   "metadata": {},
   "outputs": [],
   "source": [
    "def ri(low,high,m_one=0):\n",
    "    p = np.random.uniform(0,1)\n",
    "    if(m_one < p):\n",
    "        return np.random.randint(low,high)\n",
    "    return -1"
   ]
  },
  {
   "cell_type": "code",
   "execution_count": 11,
   "id": "0975aaac",
   "metadata": {},
   "outputs": [],
   "source": [
    "speed                  = 333\n",
    "coupling_time          = 15\n",
    "decoupling_time        = 15\n",
    "body_capacity          = 50\n",
    "max_bodies             = 3\n",
    "n_nodes                = 6\n",
    "n_vessels              = 2\n",
    "n_bodies               = 3\n",
    "n_requests             = 4\n",
    "unscheduled_cost_coeff = 10000\n",
    "service_time           = 2"
   ]
  },
  {
   "cell_type": "code",
   "execution_count": 12,
   "id": "826e3116",
   "metadata": {},
   "outputs": [],
   "source": [
    "distances = [[0,64100,64700,59000,68800,198000,190300,53600],\n",
    "            [64100,0,10900,6200,6800,135700,131800,14800],\n",
    "             [64700,109000,0,5800,4100,135700,125600,15100],\n",
    "             [59000,6200,5800,0,9800,141400,131300,9300],\n",
    "             [68800,6800,4100,9800,0,131600,125000,19100],\n",
    "             [198000,135700,135700,141400,131600,0,233000,144400],\n",
    "             [190300,131800,125600,131300,125000,233000,0,140600],\n",
    "             [53600,14800,15100,9300,19100,144400,140600,0]\n",
    "            ]"
   ]
  },
  {
   "cell_type": "code",
   "execution_count": 13,
   "id": "f25274d5",
   "metadata": {},
   "outputs": [
    {
     "ename": "NameError",
     "evalue": "name 'ri' is not defined",
     "output_type": "error",
     "traceback": [
      "\u001b[1;31m---------------------------------------------------------------------------\u001b[0m",
      "\u001b[1;31mNameError\u001b[0m                                 Traceback (most recent call last)",
      "\u001b[1;32m<ipython-input-13-77c2382beae8>\u001b[0m in \u001b[0;36m<module>\u001b[1;34m\u001b[0m\n\u001b[0;32m      1\u001b[0m \u001b[0mNodes\u001b[0m \u001b[1;33m=\u001b[0m \u001b[0mtuplelist\u001b[0m\u001b[1;33m(\u001b[0m\u001b[1;33m)\u001b[0m\u001b[1;33m\u001b[0m\u001b[1;33m\u001b[0m\u001b[0m\n\u001b[0;32m      2\u001b[0m \u001b[1;32mfor\u001b[0m \u001b[0mi\u001b[0m \u001b[1;32min\u001b[0m \u001b[0mrange\u001b[0m\u001b[1;33m(\u001b[0m\u001b[0mn_nodes\u001b[0m\u001b[1;33m)\u001b[0m\u001b[1;33m:\u001b[0m\u001b[1;33m\u001b[0m\u001b[1;33m\u001b[0m\u001b[0m\n\u001b[1;32m----> 3\u001b[1;33m     \u001b[0mis_client\u001b[0m \u001b[1;33m=\u001b[0m \u001b[1;33m-\u001b[0m\u001b[1;36m2\u001b[0m \u001b[1;32mif\u001b[0m \u001b[0mri\u001b[0m\u001b[1;33m(\u001b[0m\u001b[1;36m0\u001b[0m\u001b[1;33m,\u001b[0m\u001b[1;36m1\u001b[0m\u001b[1;33m,\u001b[0m\u001b[1;36m.2\u001b[0m\u001b[1;33m)\u001b[0m \u001b[1;33m<\u001b[0m \u001b[1;36m0\u001b[0m \u001b[1;32melse\u001b[0m \u001b[1;36m1\u001b[0m\u001b[1;33m\u001b[0m\u001b[1;33m\u001b[0m\u001b[0m\n\u001b[0m\u001b[0;32m      4\u001b[0m     \u001b[0mNodes\u001b[0m\u001b[1;33m.\u001b[0m\u001b[0mappend\u001b[0m\u001b[1;33m(\u001b[0m\u001b[1;33m(\u001b[0m\u001b[0mi\u001b[0m\u001b[1;33m,\u001b[0m\u001b[0mis_client\u001b[0m\u001b[1;33m)\u001b[0m\u001b[1;33m)\u001b[0m\u001b[1;33m\u001b[0m\u001b[1;33m\u001b[0m\u001b[0m\n\u001b[0;32m      5\u001b[0m \u001b[1;33m\u001b[0m\u001b[0m\n",
      "\u001b[1;31mNameError\u001b[0m: name 'ri' is not defined"
     ]
    }
   ],
   "source": [
    "Nodes = tuplelist()\n",
    "for i in range(n_nodes):\n",
    "    is_client = -2 if ri(0,1,.2) < 0 else 1\n",
    "    Nodes.append((i,is_client))\n",
    "\n",
    "Vessels = tuplelist()\n",
    "for i in range(n_vessels):\n",
    "    Vessels.append((i,ri(0,n_nodes),0))\n",
    "\n",
    "Bodies = tuplelist()\n",
    "for i in range(n_bodies):\n",
    "    vessel = ri(0,n_vessels)\n",
    "    Bodies.append((i,vessel,Vessels[vessel][1]))\n",
    "\n",
    "Requests = tuplelist()\n",
    "for i in range(n_requests):\n",
    "    at_body_id = ri(0,n_bodies,.7)\n",
    "    pick_id    = -1 if at_body_id != -1 else ri(0,n_nodes)\n",
    "    while(pick_id != -1 and Nodes[pick_id][1] == -2):\n",
    "        pick_id = ri(0,n_nodes)\n",
    "    pick_from  = -1 if at_body_id != -1 else ri(0,21600)\n",
    "    pick_to    = -1 if at_body_id != -1 else pick_from + ri(0,5760) \n",
    "    deliv_id   = ri(0,n_nodes)\n",
    "    while(deliv_id == pick_id or Nodes[deliv_id][1] == -2):\n",
    "        deliv_id = ri(0,n_nodes)\n",
    "    deliv_from = ri(0,21600) if at_body_id != -1 else pick_to + ri(7200,14400)\n",
    "    deliv_to   = deliv_from + ri(0,5760)\n",
    "    num_containters = ri(1,body_capacity/2)\n",
    "    Requests.append((i,pick_id,pick_from,pick_to,deliv_id,deliv_from,deliv_to,num_containters,at_body_id))\n",
    "Requests"
   ]
  }
 ],
 "metadata": {
  "kernelspec": {
   "display_name": "Python 3",
   "language": "python",
   "name": "python3"
  },
  "language_info": {
   "codemirror_mode": {
    "name": "ipython",
    "version": 3
   },
   "file_extension": ".py",
   "mimetype": "text/x-python",
   "name": "python",
   "nbconvert_exporter": "python",
   "pygments_lexer": "ipython3",
   "version": "3.8.8"
  }
 },
 "nbformat": 4,
 "nbformat_minor": 5
}
