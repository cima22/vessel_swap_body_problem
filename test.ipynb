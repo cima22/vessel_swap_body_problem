{
 "cells": [
  {
   "cell_type": "markdown",
   "id": "0cd5b679",
   "metadata": {},
   "source": [
    "# Test\n",
    "Notebook for testing the code. Two instances are provided:\n",
    "- Small instance: 4 locations, 2 vessels, 3 bodies, 3 requests. It is solved without time constraints and with a relative gap of 10%.\n",
    "- Medium instance: 7 locations, 3 vessels, 3 bodies, 4 requests. It is solved with time constraint of 900 seconds and relative gap of 30%."
   ]
  },
  {
   "cell_type": "code",
   "execution_count": 15,
   "id": "f422194c",
   "metadata": {},
   "outputs": [],
   "source": [
    "import matplotlib.pyplot as plt\n",
    "from vessel_swap_body_class import vsbp\n",
    "from instance_generator import generate_instance, ri"
   ]
  },
  {
   "cell_type": "code",
   "execution_count": 7,
   "id": "36213708",
   "metadata": {},
   "outputs": [
    {
     "name": "stdout",
     "output_type": "stream",
     "text": [
      "Set parameter MIPGap to value 0.05\n",
      "Set parameter TimeLimit to value 600\n",
      "Gurobi Optimizer version 9.5.2 build v9.5.2rc0 (linux64)\n",
      "Thread count: 4 physical cores, 4 logical processors, using up to 4 threads\n",
      "Optimize a model with 199753 rows, 33589 columns and 722943 nonzeros\n",
      "Model fingerprint: 0x89588923\n",
      "Variable types: 396 continuous, 33193 integer (33193 binary)\n",
      "Coefficient statistics:\n",
      "  Matrix range     [1e+00, 4e+04]\n",
      "  Objective range  [1e+01, 1e+04]\n",
      "  Bounds range     [1e+00, 1e+00]\n",
      "  RHS range        [1e+00, 3e+04]\n",
      "Found heuristic solution: objective 30000.000000\n",
      "Presolve removed 120421 rows and 11010 columns\n",
      "Presolve time: 1.15s\n",
      "Presolved: 79332 rows, 22579 columns, 306669 nonzeros\n",
      "Variable types: 396 continuous, 22183 integer (22087 binary)\n",
      "\n",
      "Deterministic concurrent LP optimizer: primal and dual simplex (primal and dual model)\n",
      "Showing first log only...\n",
      "\n",
      "Root relaxation presolve removed 27708 rows and 0 columns\n",
      "Root relaxation presolved: 51624 rows, 50095 columns, 251253 nonzeros\n",
      "\n",
      "\n",
      "Root simplex log...\n",
      "\n",
      "Iteration    Objective       Primal Inf.    Dual Inf.      Time\n",
      "   14423    1.6773225e+01   0.000000e+00   5.517545e+02      5s\n",
      "   16435    1.8374474e+01   0.000000e+00   0.000000e+00      6s\n",
      "   16435    1.8374474e+01   0.000000e+00   0.000000e+00      6s\n",
      "Concurrent spin time: 0.86s\n",
      "\n",
      "Solved with dual simplex (primal model)\n",
      "\n",
      "Root relaxation: objective 1.837447e+01, 11651 iterations, 5.58 seconds (5.12 work units)\n",
      "\n",
      "    Nodes    |    Current Node    |     Objective Bounds      |     Work\n",
      " Expl Unexpl |  Obj  Depth IntInf | Incumbent    BestBd   Gap | It/Node Time\n",
      "\n",
      "     0     0   18.37447    0  202 30000.0000   18.37447   100%     -    9s\n",
      "H    0     0                    20048.420420   18.37447   100%     -    9s\n",
      "     0     0   49.80225    0  372 20048.4204   49.80225   100%     -   11s\n",
      "     0     0   75.96592    0  318 20048.4204   75.96592   100%     -   13s\n",
      "     0     0   75.96592    0  262 20048.4204   75.96592   100%     -   13s\n",
      "     0     0   79.96242    0  361 20048.4204   79.96242   100%     -   14s\n",
      "     0     0   80.68063    0  383 20048.4204   80.68063   100%     -   16s\n",
      "     0     0   80.68063    0  446 20048.4204   80.68063   100%     -   16s\n",
      "     0     0   81.36024    0  334 20048.4204   81.36024   100%     -   17s\n",
      "     0     0   82.11858    0  262 20048.4204   82.11858   100%     -   17s\n",
      "     0     0   82.11858    0  263 20048.4204   82.11858   100%     -   18s\n",
      "     0     0   82.61390    0  232 20048.4204   82.61390   100%     -   19s\n",
      "     0     0   82.85781    0  301 20048.4204   82.85781   100%     -   21s\n",
      "     0     0   82.85781    0  297 20048.4204   82.85781   100%     -   21s\n",
      "     0     0   82.85781    0  344 20048.4204   82.85781   100%     -   22s\n",
      "     0     0   82.85781    0  302 20048.4204   82.85781   100%     -   22s\n",
      "     0     0   83.36866    0  305 20048.4204   83.36866   100%     -   23s\n",
      "     0     0   83.36866    0  302 20048.4204   83.36866   100%     -   23s\n",
      "     0     0   83.36866    0  218 20048.4204   83.36866   100%     -   24s\n",
      "     0     0   83.36866    0  221 20048.4204   83.36866   100%     -   24s\n",
      "     0     0   83.36866    0  181 20048.4204   83.36866   100%     -   27s\n",
      "     0     0   83.36866    0  206 20048.4204   83.36866   100%     -   27s\n",
      "     0     0   85.01820    0  378 20048.4204   85.01820   100%     -   29s\n",
      "     0     0   85.37093    0  444 20048.4204   85.37093   100%     -   29s\n",
      "     0     0   85.54058    0  444 20048.4204   85.54058   100%     -   30s\n",
      "     0     0   85.55524    0  426 20048.4204   85.55524   100%     -   30s\n",
      "     0     0   85.55524    0  410 20048.4204   85.55524   100%     -   30s\n",
      "     0     0   87.12934    0  410 20048.4204   87.12934   100%     -   31s\n",
      "H    0     0                    10058.732733   87.12934  99.1%     -   31s\n",
      "     0     0   87.27640    0  420 10058.7327   87.27640  99.1%     -   31s\n",
      "     0     0   87.29455    0  409 10058.7327   87.29455  99.1%     -   31s\n",
      "     0     0   87.29455    0  426 10058.7327   87.29455  99.1%     -   32s\n",
      "     0     0   87.57232    0  380 10058.7327   87.57232  99.1%     -   32s\n",
      "     0     0   87.67170    0  358 10058.7327   87.67170  99.1%     -   33s\n",
      "     0     0   87.68550    0  371 10058.7327   87.68550  99.1%     -   33s\n",
      "     0     0   87.68550    0  368 10058.7327   87.68550  99.1%     -   33s\n",
      "     0     0   88.27972    0  391 10058.7327   88.27972  99.1%     -   33s\n",
      "     0     0   88.27972    0  377 10058.7327   88.27972  99.1%     -   34s\n",
      "     0     0   88.37228    0  366 10058.7327   88.37228  99.1%     -   35s\n",
      "     0     0   88.52583    0  361 10058.7327   88.52583  99.1%     -   35s\n",
      "     0     0   88.58153    0  373 10058.7327   88.58153  99.1%     -   35s\n",
      "     0     0   88.58153    0  382 10058.7327   88.58153  99.1%     -   35s\n",
      "     0     0   88.58153    0  379 10058.7327   88.58153  99.1%     -   36s\n",
      "     0     0   88.58153    0  361 10058.7327   88.58153  99.1%     -   36s\n",
      "     0     0   89.35931    0  321 10058.7327   89.35931  99.1%     -   36s\n",
      "     0     0   89.35931    0  321 10058.7327   89.35931  99.1%     -   37s\n",
      "     0     0   89.61858    0  356 10058.7327   89.61858  99.1%     -   37s\n",
      "     0     0   89.61858    0  348 10058.7327   89.61858  99.1%     -   38s\n",
      "     0     0   89.61858    0  352 10058.7327   89.61858  99.1%     -   38s\n",
      "     0     0   89.61858    0  341 10058.7327   89.61858  99.1%     -   39s\n",
      "     0     0   89.61858    0  242 10058.7327   89.61858  99.1%     -   40s\n",
      "H    0     0                     158.3903904   89.61858  43.4%     -   41s\n",
      "     0     0   89.61858    0  247  158.39039   89.61858  43.4%     -   41s\n",
      "     0     0   90.01298    0  203  158.39039   90.01298  43.2%     -   42s\n",
      "     0     0   90.01298    0  215  158.39039   90.01298  43.2%     -   44s\n",
      "H    0     0                     144.3903904   90.01298  37.7%     -   44s\n",
      "     0     0  115.09910    0  179  144.39039  115.09910  20.3%     -   45s\n",
      "     0     0  115.09910    0  163  144.39039  115.09910  20.3%     -   47s\n",
      "     0     0  120.08324    0  416  144.39039  120.08324  16.8%     -   48s\n",
      "     0     0  120.08324    0  359  144.39039  120.08324  16.8%     -   49s\n",
      "     0     0  123.74077    0  392  144.39039  123.74077  14.3%     -   50s\n",
      "     0     0  123.90175    0  341  144.39039  123.90175  14.2%     -   50s\n",
      "     0     0  123.96202    0  289  144.39039  123.96202  14.1%     -   50s\n",
      "     0     0  123.96991    0  302  144.39039  123.96991  14.1%     -   50s\n",
      "     0     0  124.17622    0  333  144.39039  124.17622  14.0%     -   50s\n",
      "     0     0  124.23829    0  291  144.39039  124.23829  14.0%     -   50s\n",
      "     0     0  124.23890    0  297  144.39039  124.23890  14.0%     -   51s\n",
      "     0     0  125.17957    0  307  144.39039  125.17957  13.3%     -   51s\n",
      "     0     0  125.38939    0  299  144.39039  125.38939  13.2%     -   51s\n",
      "     0     0  126.15504    0  302  144.39039  126.15504  12.6%     -   51s\n",
      "     0     0  126.15504    0  294  144.39039  126.15504  12.6%     -   51s\n",
      "     0     0  126.60893    0  342  144.39039  126.60893  12.3%     -   52s\n",
      "     0     0  126.93892    0  302  144.39039  126.93892  12.1%     -   52s\n",
      "     0     0  128.35680    0  280  144.39039  128.35680  11.1%     -   52s\n",
      "     0     0  128.36135    0  295  144.39039  128.36135  11.1%     -   52s\n",
      "     0     0  129.17621    0  298  144.39039  129.17621  10.5%     -   53s\n",
      "     0     0  129.62798    0  305  144.39039  129.62798  10.2%     -   53s\n",
      "     0     0  129.79287    0  400  144.39039  129.79287  10.1%     -   53s\n",
      "     0     0  129.79704    0  313  144.39039  129.79704  10.1%     -   53s\n",
      "     0     0  130.04360    0  400  144.39039  130.04360  9.94%     -   54s\n",
      "     0     0  130.64758    0  397  144.39039  130.64758  9.52%     -   54s\n",
      "     0     0  130.69172    0  293  144.39039  130.69172  9.49%     -   54s\n",
      "     0     0  130.70390    0  301  144.39039  130.70390  9.48%     -   54s\n",
      "     0     0  130.70390    0  301  144.39039  130.70390  9.48%     -   54s\n",
      "     0     0  133.78663    0  268  144.39039  133.78663  7.34%     -   55s\n",
      "     0     0  135.60172    0  223  144.39039  135.60172  6.09%     -   55s\n",
      "     0     0  135.67405    0  213  144.39039  135.67405  6.04%     -   55s\n",
      "     0     0  135.72748    0  232  144.39039  135.72748  6.00%     -   55s\n",
      "     0     0  135.72748    0  236  144.39039  135.72748  6.00%     -   55s\n"
     ]
    },
    {
     "name": "stdout",
     "output_type": "stream",
     "text": [
      "     0     0  137.95438    0  332  144.39039  137.95438  4.46%     -   56s\n",
      "\n",
      "Cutting planes:\n",
      "  Gomory: 3\n",
      "  Cover: 65\n",
      "  Implied bound: 61\n",
      "  Clique: 29\n",
      "  MIR: 36\n",
      "  Zero half: 13\n",
      "  Mod-K: 5\n",
      "  RLT: 33\n",
      "  Relax-and-lift: 7\n",
      "\n",
      "Explored 1 nodes (81428 simplex iterations) in 56.13 seconds (52.71 work units)\n",
      "Thread count was 4 (of 4 available processors)\n",
      "\n",
      "Solution count 5: 144.39 158.39 10058.7 ... 30000\n",
      "\n",
      "Optimal solution found (tolerance 5.00e-02)\n",
      "Best objective 1.443903903904e+02, best bound 1.379543774412e+02, gap 4.4574%\n",
      "Objective Function Value: 144.39039039039199\n"
     ]
    }
   ],
   "source": [
    "generate_instance(n_nodes = 8, n_vessels = 2, n_bodies = 4, n_requests = 3)\n",
    "random_test = vsbp(\"random_instance\")\n",
    "random_test.solve_vsbr(gap=0.05,time_limit=600)"
   ]
  },
  {
   "cell_type": "code",
   "execution_count": 10,
   "id": "0733ee05",
   "metadata": {},
   "outputs": [
    {
     "name": "stdout",
     "output_type": "stream",
     "text": [
      "\n",
      "------------------------ Instance problem: ---------------------------------\n",
      "\n",
      "Vessel: 0 - start location: 1\n",
      "Vessel: 1 - start location: 5\n",
      "\n",
      "Body:   0 - start location: 5\n",
      "Body:   1 - start location: 1\n",
      "Body:   2 - start location: 1\n",
      "Body:   3 - start location: 5\n",
      "\n",
      "Request 0: pickup time window is [5383, 9896] delivery time window is [23446, 25502]\n",
      "Request 1: pickup time window is [19687, 24535] delivery time window is [31803, 34351]\n",
      "Request 2: delivery time window is [15681, 17300]\n",
      "\n",
      "---------------------------- Solution: -------------------------------------\n",
      "\n",
      "Objective Function Value: 144.39\n",
      "\n",
      "Request 0 handled by body 1 - Pickup at location 2 at 5383.0  - Delivery at location 5 at 23446.0\n",
      "Request 1 handled by body 2 - Pickup at location 4 at 19687.0  - Delivery at location 7 at 31803.0\n",
      "Request 2 handled by body 2 - Delivery at location 2 at 15681.0\n",
      "Runtime: 56.14392590522766\n"
     ]
    }
   ],
   "source": [
    "random_test.print_solution()\n",
    "print(\"Runtime:\", random_test.opt_mod.Runtime)"
   ]
  },
  {
   "cell_type": "code",
   "execution_count": 92,
   "id": "b34afcd5",
   "metadata": {},
   "outputs": [
    {
     "data": {
      "text/plain": [
       "0"
      ]
     },
     "execution_count": 92,
     "metadata": {},
     "output_type": "execute_result"
    }
   ],
   "source": [
    "c = 0\n",
    "c += 1 if False else 0\n",
    "c"
   ]
  }
 ],
 "metadata": {
  "kernelspec": {
   "display_name": "Python 3 (ipykernel)",
   "language": "python",
   "name": "python3"
  },
  "language_info": {
   "codemirror_mode": {
    "name": "ipython",
    "version": 3
   },
   "file_extension": ".py",
   "mimetype": "text/x-python",
   "name": "python",
   "nbconvert_exporter": "python",
   "pygments_lexer": "ipython3",
   "version": "3.10.4"
  }
 },
 "nbformat": 4,
 "nbformat_minor": 5
}
